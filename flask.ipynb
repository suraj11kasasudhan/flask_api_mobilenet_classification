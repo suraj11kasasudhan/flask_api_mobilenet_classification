{
  "nbformat": 4,
  "nbformat_minor": 0,
  "metadata": {
    "accelerator": "TPU",
    "colab": {
      "name": "flask.ipynb",
      "provenance": [],
      "authorship_tag": "ABX9TyPUdU2Cmgwh9TTuIPFXXoh6",
      "include_colab_link": true
    },
    "kernelspec": {
      "display_name": "Python 3",
      "name": "python3"
    },
    "language_info": {
      "name": "python"
    }
  },
  "cells": [
    {
      "cell_type": "markdown",
      "metadata": {
        "id": "view-in-github",
        "colab_type": "text"
      },
      "source": [
        "<a href=\"https://colab.research.google.com/github/suraj11kasasudhan/flask_api_mobilenet_classification/blob/main/flask.ipynb\" target=\"_parent\"><img src=\"https://colab.research.google.com/assets/colab-badge.svg\" alt=\"Open In Colab\"/></a>"
      ]
    },
    {
      "cell_type": "code",
      "metadata": {
        "colab": {
          "base_uri": "https://localhost:8080/"
        },
        "id": "S5sjmh1wD6Mt",
        "outputId": "19d06fef-b472-4a3f-b387-253dc79a7f08"
      },
      "source": [
        "!pip install flask-ngrok"
      ],
      "execution_count": null,
      "outputs": [
        {
          "output_type": "stream",
          "text": [
            "Collecting flask-ngrok\n",
            "  Downloading https://files.pythonhosted.org/packages/af/6c/f54cb686ad1129e27d125d182f90f52b32f284e6c8df58c1bae54fa1adbc/flask_ngrok-0.0.25-py3-none-any.whl\n",
            "Requirement already satisfied: requests in /usr/local/lib/python3.7/dist-packages (from flask-ngrok) (2.23.0)\n",
            "Requirement already satisfied: Flask>=0.8 in /usr/local/lib/python3.7/dist-packages (from flask-ngrok) (1.1.4)\n",
            "Requirement already satisfied: certifi>=2017.4.17 in /usr/local/lib/python3.7/dist-packages (from requests->flask-ngrok) (2021.5.30)\n",
            "Requirement already satisfied: idna<3,>=2.5 in /usr/local/lib/python3.7/dist-packages (from requests->flask-ngrok) (2.10)\n",
            "Requirement already satisfied: urllib3!=1.25.0,!=1.25.1,<1.26,>=1.21.1 in /usr/local/lib/python3.7/dist-packages (from requests->flask-ngrok) (1.24.3)\n",
            "Requirement already satisfied: chardet<4,>=3.0.2 in /usr/local/lib/python3.7/dist-packages (from requests->flask-ngrok) (3.0.4)\n",
            "Requirement already satisfied: itsdangerous<2.0,>=0.24 in /usr/local/lib/python3.7/dist-packages (from Flask>=0.8->flask-ngrok) (1.1.0)\n",
            "Requirement already satisfied: Werkzeug<2.0,>=0.15 in /usr/local/lib/python3.7/dist-packages (from Flask>=0.8->flask-ngrok) (1.0.1)\n",
            "Requirement already satisfied: click<8.0,>=5.1 in /usr/local/lib/python3.7/dist-packages (from Flask>=0.8->flask-ngrok) (7.1.2)\n",
            "Requirement already satisfied: Jinja2<3.0,>=2.10.1 in /usr/local/lib/python3.7/dist-packages (from Flask>=0.8->flask-ngrok) (2.11.3)\n",
            "Requirement already satisfied: MarkupSafe>=0.23 in /usr/local/lib/python3.7/dist-packages (from Jinja2<3.0,>=2.10.1->Flask>=0.8->flask-ngrok) (2.0.1)\n",
            "Installing collected packages: flask-ngrok\n",
            "Successfully installed flask-ngrok-0.0.25\n"
          ],
          "name": "stdout"
        }
      ]
    },
    {
      "cell_type": "code",
      "metadata": {
        "colab": {
          "base_uri": "https://localhost:8080/"
        },
        "id": "hdLGRlisJzi_",
        "outputId": "10bed261-ac08-4183-fac6-bb04c82d8056"
      },
      "source": [
        "!pip install flask_bootstrap\n",
        "\n"
      ],
      "execution_count": null,
      "outputs": [
        {
          "output_type": "stream",
          "text": [
            "Collecting flask_bootstrap\n",
            "\u001b[?25l  Downloading https://files.pythonhosted.org/packages/88/53/958ce7c2aa26280b7fd7f3eecbf13053f1302ee2acb1db58ef32e1c23c2a/Flask-Bootstrap-3.3.7.1.tar.gz (456kB)\n",
            "\r\u001b[K     |▊                               | 10kB 13.8MB/s eta 0:00:01\r\u001b[K     |█▍                              | 20kB 18.9MB/s eta 0:00:01\r\u001b[K     |██▏                             | 30kB 11.1MB/s eta 0:00:01\r\u001b[K     |██▉                             | 40kB 8.7MB/s eta 0:00:01\r\u001b[K     |███▋                            | 51kB 4.7MB/s eta 0:00:01\r\u001b[K     |████▎                           | 61kB 5.1MB/s eta 0:00:01\r\u001b[K     |█████                           | 71kB 5.4MB/s eta 0:00:01\r\u001b[K     |█████▊                          | 81kB 5.9MB/s eta 0:00:01\r\u001b[K     |██████▌                         | 92kB 6.4MB/s eta 0:00:01\r\u001b[K     |███████▏                        | 102kB 5.0MB/s eta 0:00:01\r\u001b[K     |████████                        | 112kB 5.0MB/s eta 0:00:01\r\u001b[K     |████████▋                       | 122kB 5.0MB/s eta 0:00:01\r\u001b[K     |█████████▍                      | 133kB 5.0MB/s eta 0:00:01\r\u001b[K     |██████████                      | 143kB 5.0MB/s eta 0:00:01\r\u001b[K     |██████████▊                     | 153kB 5.0MB/s eta 0:00:01\r\u001b[K     |███████████▌                    | 163kB 5.0MB/s eta 0:00:01\r\u001b[K     |████████████▏                   | 174kB 5.0MB/s eta 0:00:01\r\u001b[K     |█████████████                   | 184kB 5.0MB/s eta 0:00:01\r\u001b[K     |█████████████▋                  | 194kB 5.0MB/s eta 0:00:01\r\u001b[K     |██████████████▍                 | 204kB 5.0MB/s eta 0:00:01\r\u001b[K     |███████████████                 | 215kB 5.0MB/s eta 0:00:01\r\u001b[K     |███████████████▉                | 225kB 5.0MB/s eta 0:00:01\r\u001b[K     |████████████████▌               | 235kB 5.0MB/s eta 0:00:01\r\u001b[K     |█████████████████▎              | 245kB 5.0MB/s eta 0:00:01\r\u001b[K     |██████████████████              | 256kB 5.0MB/s eta 0:00:01\r\u001b[K     |██████████████████▊             | 266kB 5.0MB/s eta 0:00:01\r\u001b[K     |███████████████████▍            | 276kB 5.0MB/s eta 0:00:01\r\u001b[K     |████████████████████            | 286kB 5.0MB/s eta 0:00:01\r\u001b[K     |████████████████████▉           | 296kB 5.0MB/s eta 0:00:01\r\u001b[K     |█████████████████████▌          | 307kB 5.0MB/s eta 0:00:01\r\u001b[K     |██████████████████████▎         | 317kB 5.0MB/s eta 0:00:01\r\u001b[K     |███████████████████████         | 327kB 5.0MB/s eta 0:00:01\r\u001b[K     |███████████████████████▊        | 337kB 5.0MB/s eta 0:00:01\r\u001b[K     |████████████████████████▍       | 348kB 5.0MB/s eta 0:00:01\r\u001b[K     |█████████████████████████▏      | 358kB 5.0MB/s eta 0:00:01\r\u001b[K     |█████████████████████████▉      | 368kB 5.0MB/s eta 0:00:01\r\u001b[K     |██████████████████████████▋     | 378kB 5.0MB/s eta 0:00:01\r\u001b[K     |███████████████████████████▎    | 389kB 5.0MB/s eta 0:00:01\r\u001b[K     |████████████████████████████    | 399kB 5.0MB/s eta 0:00:01\r\u001b[K     |████████████████████████████▊   | 409kB 5.0MB/s eta 0:00:01\r\u001b[K     |█████████████████████████████▍  | 419kB 5.0MB/s eta 0:00:01\r\u001b[K     |██████████████████████████████▏ | 430kB 5.0MB/s eta 0:00:01\r\u001b[K     |██████████████████████████████▉ | 440kB 5.0MB/s eta 0:00:01\r\u001b[K     |███████████████████████████████▋| 450kB 5.0MB/s eta 0:00:01\r\u001b[K     |████████████████████████████████| 460kB 5.0MB/s \n",
            "\u001b[?25hRequirement already satisfied: Flask>=0.8 in /usr/local/lib/python3.7/dist-packages (from flask_bootstrap) (1.1.4)\n",
            "Collecting dominate\n",
            "  Downloading https://files.pythonhosted.org/packages/ef/a8/4354f8122c39e35516a2708746d89db5e339c867abbd8e0179bccee4b7f9/dominate-2.6.0-py2.py3-none-any.whl\n",
            "Collecting visitor\n",
            "  Downloading https://files.pythonhosted.org/packages/d7/58/785fcd6de4210049da5fafe62301b197f044f3835393594be368547142b0/visitor-0.1.3.tar.gz\n",
            "Requirement already satisfied: Werkzeug<2.0,>=0.15 in /usr/local/lib/python3.7/dist-packages (from Flask>=0.8->flask_bootstrap) (1.0.1)\n",
            "Requirement already satisfied: click<8.0,>=5.1 in /usr/local/lib/python3.7/dist-packages (from Flask>=0.8->flask_bootstrap) (7.1.2)\n",
            "Requirement already satisfied: Jinja2<3.0,>=2.10.1 in /usr/local/lib/python3.7/dist-packages (from Flask>=0.8->flask_bootstrap) (2.11.3)\n",
            "Requirement already satisfied: itsdangerous<2.0,>=0.24 in /usr/local/lib/python3.7/dist-packages (from Flask>=0.8->flask_bootstrap) (1.1.0)\n",
            "Requirement already satisfied: MarkupSafe>=0.23 in /usr/local/lib/python3.7/dist-packages (from Jinja2<3.0,>=2.10.1->Flask>=0.8->flask_bootstrap) (2.0.1)\n",
            "Building wheels for collected packages: flask-bootstrap, visitor\n",
            "  Building wheel for flask-bootstrap (setup.py) ... \u001b[?25l\u001b[?25hdone\n",
            "  Created wheel for flask-bootstrap: filename=Flask_Bootstrap-3.3.7.1-cp37-none-any.whl size=460122 sha256=d832edaa3206f92a82f15b82d1e5ae9054669e49b37ec33658fed005b7421130\n",
            "  Stored in directory: /root/.cache/pip/wheels/e8/b9/93/ef6ac3b8ead2d72cbcc042b9d58b613aaf47e533b9dc5b5999\n",
            "  Building wheel for visitor (setup.py) ... \u001b[?25l\u001b[?25hdone\n",
            "  Created wheel for visitor: filename=visitor-0.1.3-cp37-none-any.whl size=3945 sha256=eb599ffc0d46e7118a62adaae95805f36697d167067cee739ec9e45ceb6eb684\n",
            "  Stored in directory: /root/.cache/pip/wheels/68/b0/a2/cc8c7cf94ca3d1088a7d2e27936c1e0da170e05f560973e8dd\n",
            "Successfully built flask-bootstrap visitor\n",
            "Installing collected packages: dominate, visitor, flask-bootstrap\n",
            "Successfully installed dominate-2.6.0 flask-bootstrap-3.3.7.1 visitor-0.1.3\n"
          ],
          "name": "stdout"
        }
      ]
    },
    {
      "cell_type": "code",
      "metadata": {
        "colab": {
          "base_uri": "https://localhost:8080/"
        },
        "id": "hud70khcKHS1",
        "outputId": "ce3490e5-d05c-4a8a-f8d4-c66fe6674f21"
      },
      "source": [
        "!pip install flask_wtf\n"
      ],
      "execution_count": null,
      "outputs": [
        {
          "output_type": "stream",
          "text": [
            "Collecting flask_wtf\n",
            "  Downloading https://files.pythonhosted.org/packages/16/df/ba01a1d9a8b9d933c0e746c7ca015bfeee2b1e4e32f0527de3bbe6ac65a7/Flask_WTF-0.15.1-py2.py3-none-any.whl\n",
            "Requirement already satisfied: Flask in /usr/local/lib/python3.7/dist-packages (from flask_wtf) (1.1.4)\n",
            "Collecting WTForms\n",
            "\u001b[?25l  Downloading https://files.pythonhosted.org/packages/e0/31/614fc7dc7d76005b0acb8c0c8920d962b83d7422b4ba912886dfb63f86ff/WTForms-2.3.3-py2.py3-none-any.whl (169kB)\n",
            "\u001b[K     |████████████████████████████████| 174kB 6.9MB/s \n",
            "\u001b[?25hRequirement already satisfied: itsdangerous in /usr/local/lib/python3.7/dist-packages (from flask_wtf) (1.1.0)\n",
            "Requirement already satisfied: click<8.0,>=5.1 in /usr/local/lib/python3.7/dist-packages (from Flask->flask_wtf) (7.1.2)\n",
            "Requirement already satisfied: Werkzeug<2.0,>=0.15 in /usr/local/lib/python3.7/dist-packages (from Flask->flask_wtf) (1.0.1)\n",
            "Requirement already satisfied: Jinja2<3.0,>=2.10.1 in /usr/local/lib/python3.7/dist-packages (from Flask->flask_wtf) (2.11.3)\n",
            "Requirement already satisfied: MarkupSafe in /usr/local/lib/python3.7/dist-packages (from WTForms->flask_wtf) (2.0.1)\n",
            "Installing collected packages: WTForms, flask-wtf\n",
            "Successfully installed WTForms-2.3.3 flask-wtf-0.15.1\n"
          ],
          "name": "stdout"
        }
      ]
    },
    {
      "cell_type": "code",
      "metadata": {
        "colab": {
          "background_save": true,
          "base_uri": "https://localhost:8080/"
        },
        "id": "_rTMNBS1GoKU",
        "outputId": "2cda4816-39a0-4763-c4f7-8e57cf53f1d9"
      },
      "source": [
        "from flask_bootstrap import Bootstrap\n",
        "from flask_ngrok import run_with_ngrok\n",
        "from flask_wtf import FlaskForm\n",
        "from flask_wtf.file import FileField, FileRequired, FileAllowed\n",
        "from wtforms import SubmitField\n",
        "import os\n",
        "from werkzeug.utils import secure_filename\n",
        "from flask import Flask, render_template\n",
        "from tensorflow.keras.applications.mobilenet_v2 import decode_predictions, preprocess_input, MobileNetV2\n",
        "import cv2\n",
        "\n",
        "\n",
        "app = Flask(__name__)\n",
        "run_with_ngrok(app)   \n",
        "app.config['SECRET_KEY'] = os.environ.get('SECRET_KEY') or 'you-will-never-guess'\n",
        "bootstrap = Bootstrap(app)\n",
        "model = MobileNetV2(input_shape=(224,224,3), weights=None)\n",
        "model.load_weights('/content/static/model_weights.h5')\n",
        "\n",
        "\n",
        "class UploadForm(FlaskForm):\n",
        "    upload = FileField('Select an image:', validators=[\n",
        "        FileRequired(),\n",
        "        FileAllowed(['jpg', 'png', 'jpeg', 'JPEG', 'PNG', 'JPG'], 'Images only!')\n",
        "    ])\n",
        "    submit = SubmitField('Classify')\n",
        "\n",
        "\n",
        "def get_prediction(img_path):\n",
        "    img = cv2.imread(img_path)\n",
        "    img_resized = cv2.resize(img, (224, 224))\n",
        "    img_preprocessed = preprocess_input(img_resized)\n",
        "    img_reshaped = img_preprocessed.reshape((1, 224, 224, 3))\n",
        "    prediction = model.predict(img_reshaped)\n",
        "    decoded = decode_predictions(prediction)\n",
        "\n",
        "    top_3 = [(cat.capitalize(), round(prob*100, 2)) for (code, cat, prob) in decoded[0]][:3]\n",
        "    return top_3\n",
        "\n",
        "\n",
        "@app.route('/', methods=['GET', 'POST'])\n",
        "def home():\n",
        "    form = UploadForm()\n",
        "    if form.validate_on_submit():\n",
        "        f = form.upload.data\n",
        "        filename = secure_filename(f.filename)\n",
        "        file_url = os.path.join('static', filename\n",
        "        )\n",
        "        f.save(file_url)\n",
        "        form = None\n",
        "        prediction = get_prediction(file_url)\n",
        "    else:\n",
        "        file_url = None\n",
        "        prediction = None\n",
        "    return render_template(\"index.html\", form=form, file_url=file_url, prediction=prediction)\n",
        "\n",
        "\n",
        "if __name__ == \"__main__\":\n",
        "    app.run()"
      ],
      "execution_count": null,
      "outputs": [
        {
          "output_type": "stream",
          "text": [
            " * Serving Flask app \"__main__\" (lazy loading)\n",
            " * Environment: production\n",
            "\u001b[31m   WARNING: This is a development server. Do not use it in a production deployment.\u001b[0m\n",
            "\u001b[2m   Use a production WSGI server instead.\u001b[0m\n",
            " * Debug mode: off\n"
          ],
          "name": "stdout"
        },
        {
          "output_type": "stream",
          "text": [
            " * Running on http://127.0.0.1:5000/ (Press CTRL+C to quit)\n"
          ],
          "name": "stderr"
        },
        {
          "output_type": "stream",
          "text": [
            " * Running on http://b5119d295019.ngrok.io\n",
            " * Traffic stats available on http://127.0.0.1:4040\n"
          ],
          "name": "stdout"
        },
        {
          "output_type": "stream",
          "text": [
            "127.0.0.1 - - [14/Jun/2021 17:00:23] \"\u001b[37mGET / HTTP/1.1\u001b[0m\" 200 -\n",
            "127.0.0.1 - - [14/Jun/2021 17:00:24] \"\u001b[33mGET /favicon.ico HTTP/1.1\u001b[0m\" 404 -\n",
            "127.0.0.1 - - [14/Jun/2021 17:00:25] \"\u001b[37mGET / HTTP/1.1\u001b[0m\" 200 -\n"
          ],
          "name": "stderr"
        },
        {
          "output_type": "stream",
          "text": [
            "Downloading data from https://storage.googleapis.com/download.tensorflow.org/data/imagenet_class_index.json\n",
            "40960/35363 [==================================] - 0s 0us/step\n"
          ],
          "name": "stdout"
        },
        {
          "output_type": "stream",
          "text": [
            "127.0.0.1 - - [14/Jun/2021 17:00:41] \"\u001b[37mPOST / HTTP/1.1\u001b[0m\" 200 -\n",
            "127.0.0.1 - - [14/Jun/2021 17:00:42] \"\u001b[37mGET /static/20201119_231342_1.jpg HTTP/1.1\u001b[0m\" 200 -\n"
          ],
          "name": "stderr"
        }
      ]
    }
  ]
}